{
 "cells": [
  {
   "cell_type": "code",
   "execution_count": 1,
   "id": "42b36cb24c7a6bf1",
   "metadata": {
    "ExecuteTime": {
     "end_time": "2024-11-21T21:03:23.820279Z",
     "start_time": "2024-11-21T21:03:17.120741Z"
    }
   },
   "outputs": [
    {
     "name": "stderr",
     "output_type": "stream",
     "text": [
      "/var/folders/_p/bvmt7ljj43lfs5kk0q6__wvr0000gp/T/ipykernel_19468/2357389477.py:21: UserWarning: pandas only supports SQLAlchemy connectable (engine/connection) or database string URI or sqlite3 DBAPI2 connection. Other DBAPI2 objects are not tested. Please consider using SQLAlchemy.\n",
      "  data = pd.read_sql(query, conn)\n"
     ]
    },
    {
     "name": "stdout",
     "output_type": "stream",
     "text": [
      "   PERSON_AGE  PERSON_INCOME PERSON_HOME_OWNERSHIP  PERSON_EMP_LENGTH  \\\n",
      "0          22          59000                  RENT              123.0   \n",
      "1          21           9600                   OWN                5.0   \n",
      "2          25           9600              MORTGAGE                1.0   \n",
      "3          23          65500                  RENT                4.0   \n",
      "4          24          54400                  RENT                8.0   \n",
      "\n",
      "  LOAN_INTENT LOAN_GRADE  LOAN_AMNT  LOAN_INT_RATE  LOAN_STATUS  \\\n",
      "0    PERSONAL          D      35000          16.02            1   \n",
      "1   EDUCATION          B       1000          11.14            0   \n",
      "2     MEDICAL          C       5500          12.87            1   \n",
      "3     MEDICAL          C      35000          15.23            1   \n",
      "4     MEDICAL          C      35000          14.27            1   \n",
      "\n",
      "   LOAN_PERCENT_INCOME  ... FINANCIAL_STABILITY_RATIO  \\\n",
      "0                 0.59  ...                  1.685714   \n",
      "1                 0.10  ...                  9.600000   \n",
      "2                 0.57  ...                  1.745455   \n",
      "3                 0.53  ...                  1.871429   \n",
      "4                 0.55  ...                  1.554286   \n",
      "\n",
      "              HOUSING_DEBT_RISK INTEREST_RATE_ADJUSTED_BY_EMPLOYMENT  \\\n",
      "0       Alto riesgo en alquiler                             0.129194   \n",
      "1  Bajo riesgo como propietario                             1.856667   \n",
      "2                      Moderado                             6.435000   \n",
      "3       Alto riesgo en alquiler                             3.046000   \n",
      "4       Alto riesgo en alquiler                             1.585556   \n",
      "\n",
      "   AVAILABLE_MONTHLY_PAYMENT CREDIT_RISK_COMBINED OVERALL_LOAN_RISK  \\\n",
      "0                2015.833333      Riesgo moderado          9.503390   \n",
      "1                 720.000000      Riesgo moderado          1.160417   \n",
      "2                 344.000000      Riesgo moderado          7.373437   \n",
      "3                2565.416667      Riesgo moderado          8.138168   \n",
      "4                2040.000000      Riesgo moderado          9.181066   \n",
      "\n",
      "  ANNUAL_INCOME_DEDICATED_TO_LOAN LOAN_SUSTAINABILITY  TOTAL_LOAN_COST  \\\n",
      "0                         59.3220        Insostenible         40607.00   \n",
      "1                         10.4167          Sostenible          1111.40   \n",
      "2                         57.2917        Insostenible          6207.85   \n",
      "3                         53.4351        Insostenible         40330.50   \n",
      "4                         64.3382        Insostenible         39994.50   \n",
      "\n",
      "   AGE_CREDIT_RISK  \n",
      "0  Riesgo moderado  \n",
      "1      Riesgo alto  \n",
      "2  Riesgo moderado  \n",
      "3      Riesgo alto  \n",
      "4  Riesgo moderado  \n",
      "\n",
      "[5 rows x 42 columns]\n"
     ]
    }
   ],
   "source": [
    "import snowflake.connector\n",
    "import pandas as pd\n",
    "from dotenv import load_dotenv\n",
    "import os\n",
    "\n",
    "# Cargar las variables del archivo .env\n",
    "load_dotenv()\n",
    "conn = snowflake.connector.connect(\n",
    "    user=os.getenv('SNOWFLAKE_USER'),\n",
    "    password=os.getenv('SNOWFLAKE_PASSWORD'),\n",
    "    account=os.getenv('SNOWFLAKE_ACCOUNT'),\n",
    "    warehouse=os.getenv('SNOWFLAKE_WAREHOUSE')\n",
    ")\n",
    "\n",
    "\n",
    "query = \"\"\"\n",
    "SELECT * FROM bank_bnc_prod.bcn_credit_risk.feature_store_credit_risk;\n",
    "\"\"\"\n",
    "data = pd.read_sql(query, conn)\n",
    "\n",
    "# Cerrar la conexión\n",
    "conn.close()\n",
    "\n",
    "# Mostrar los primeros registros\n",
    "print(data.head())"
   ]
  },
  {
   "cell_type": "code",
   "execution_count": 25,
   "id": "8dd9a6e6585dc059",
   "metadata": {
    "ExecuteTime": {
     "end_time": "2024-11-21T00:37:38.699188Z",
     "start_time": "2024-11-21T00:37:38.696972Z"
    }
   },
   "outputs": [
    {
     "name": "stdout",
     "output_type": "stream",
     "text": [
      "Dimensiones: (32581, 42)\n"
     ]
    }
   ],
   "source": [
    "print(f\"Dimensiones: {data.shape}\")"
   ]
  },
  {
   "cell_type": "code",
   "execution_count": 26,
   "id": "12dba2e49f7ee17a",
   "metadata": {
    "ExecuteTime": {
     "end_time": "2024-11-21T00:37:38.749950Z",
     "start_time": "2024-11-21T00:37:38.700169Z"
    }
   },
   "outputs": [
    {
     "name": "stdout",
     "output_type": "stream",
     "text": [
      "<class 'pandas.core.frame.DataFrame'>\n",
      "RangeIndex: 32581 entries, 0 to 32580\n",
      "Data columns (total 42 columns):\n",
      " #   Column                                Non-Null Count  Dtype  \n",
      "---  ------                                --------------  -----  \n",
      " 0   PERSON_AGE                            32581 non-null  int64  \n",
      " 1   PERSON_INCOME                         32581 non-null  int64  \n",
      " 2   PERSON_HOME_OWNERSHIP                 32581 non-null  object \n",
      " 3   PERSON_EMP_LENGTH                     31686 non-null  float64\n",
      " 4   LOAN_INTENT                           32581 non-null  object \n",
      " 5   LOAN_GRADE                            32581 non-null  object \n",
      " 6   LOAN_AMNT                             32581 non-null  int64  \n",
      " 7   LOAN_INT_RATE                         29465 non-null  float64\n",
      " 8   LOAN_STATUS                           32581 non-null  int64  \n",
      " 9   LOAN_PERCENT_INCOME                   32581 non-null  float64\n",
      " 10  CB_PERSON_DEFAULT_ON_FILE             32581 non-null  object \n",
      " 11  CB_PERSON_CRED_HIST_LENGTH            32581 non-null  int64  \n",
      " 12  AGE_GROUP                             32581 non-null  object \n",
      " 13  LOAN_TO_INCOME_RATIO                  32581 non-null  float64\n",
      " 14  EMP_LENGTH_CATEGORY                   32581 non-null  object \n",
      " 15  INTEREST_RATE_RISK                    32581 non-null  object \n",
      " 16  CREDIT_HISTORY_CATEGORY               32581 non-null  object \n",
      " 17  HOME_OWNERSHIP_GROUP                  32581 non-null  object \n",
      " 18  HIGH_DEBT_INDICATOR                   32581 non-null  int64  \n",
      " 19  CREDIT_VS_LOAN_DURATION               31686 non-null  float64\n",
      " 20  LOAN_INTENT_CATEGORY                  32581 non-null  object \n",
      " 21  CREDIT_CONFIDENCE_LEVEL               32581 non-null  object \n",
      " 22  ADJUSTED_INTEREST_RATE                29465 non-null  float64\n",
      " 23  ESTIMATED_SAVINGS                     32581 non-null  float64\n",
      " 24  SIMPLIFIED_EMP_LENGTH                 32581 non-null  object \n",
      " 25  LOAN_AMOUNT_CATEGORY                  32581 non-null  object \n",
      " 26  HOUSING_EMPLOYMENT_RISK               32581 non-null  object \n",
      " 27  AGE_INTEREST_RISK                     32581 non-null  object \n",
      " 28  ESTIMATED_DAYS_TO_CLEAR_DEBT          32581 non-null  float64\n",
      " 29  EARLY_PAYMENT_CAPABILITY              32581 non-null  int64  \n",
      " 30  LOAN_INTENSITY_SCORE                  28638 non-null  float64\n",
      " 31  INCOME_RANGE                          32581 non-null  object \n",
      " 32  FINANCIAL_STABILITY_RATIO             32581 non-null  float64\n",
      " 33  HOUSING_DEBT_RISK                     32581 non-null  object \n",
      " 34  INTEREST_RATE_ADJUSTED_BY_EMPLOYMENT  28638 non-null  float64\n",
      " 35  AVAILABLE_MONTHLY_PAYMENT             32581 non-null  float64\n",
      " 36  CREDIT_RISK_COMBINED                  32581 non-null  object \n",
      " 37  OVERALL_LOAN_RISK                     29465 non-null  float64\n",
      " 38  ANNUAL_INCOME_DEDICATED_TO_LOAN       32581 non-null  float64\n",
      " 39  LOAN_SUSTAINABILITY                   32581 non-null  object \n",
      " 40  TOTAL_LOAN_COST                       29465 non-null  float64\n",
      " 41  AGE_CREDIT_RISK                       32581 non-null  object \n",
      "dtypes: float64(15), int64(7), object(20)\n",
      "memory usage: 10.4+ MB\n",
      "None\n"
     ]
    }
   ],
   "source": [
    "print(data.info())"
   ]
  },
  {
   "cell_type": "code",
   "execution_count": 27,
   "id": "eb586beecac3ae4a",
   "metadata": {
    "ExecuteTime": {
     "end_time": "2024-11-21T00:37:38.786582Z",
     "start_time": "2024-11-21T00:37:38.751383Z"
    }
   },
   "outputs": [
    {
     "name": "stdout",
     "output_type": "stream",
     "text": [
      "         PERSON_AGE  PERSON_INCOME  PERSON_EMP_LENGTH     LOAN_AMNT  \\\n",
      "count  32581.000000   3.258100e+04       31686.000000  32581.000000   \n",
      "mean      27.734600   6.607485e+04           4.789686   9589.371106   \n",
      "std        6.348078   6.198312e+04           4.142630   6322.086646   \n",
      "min       20.000000   4.000000e+03           0.000000    500.000000   \n",
      "25%       23.000000   3.850000e+04           2.000000   5000.000000   \n",
      "50%       26.000000   5.500000e+04           4.000000   8000.000000   \n",
      "75%       30.000000   7.920000e+04           7.000000  12200.000000   \n",
      "max      144.000000   6.000000e+06         123.000000  35000.000000   \n",
      "\n",
      "       LOAN_INT_RATE   LOAN_STATUS  LOAN_PERCENT_INCOME  \\\n",
      "count   29465.000000  32581.000000         32581.000000   \n",
      "mean       11.011695      0.218164             0.170203   \n",
      "std         3.240459      0.413006             0.106782   \n",
      "min         5.420000      0.000000             0.000000   \n",
      "25%         7.900000      0.000000             0.090000   \n",
      "50%        10.990000      0.000000             0.150000   \n",
      "75%        13.470000      0.000000             0.230000   \n",
      "max        23.220000      1.000000             0.830000   \n",
      "\n",
      "       CB_PERSON_CRED_HIST_LENGTH  LOAN_TO_INCOME_RATIO  HIGH_DEBT_INDICATOR  \\\n",
      "count                32581.000000          32581.000000         32581.000000   \n",
      "mean                     5.804211              0.170553             0.007612   \n",
      "std                      4.055001              0.107049             0.086914   \n",
      "min                      2.000000              0.000789             0.000000   \n",
      "25%                      3.000000              0.089655             0.000000   \n",
      "50%                      4.000000              0.148148             0.000000   \n",
      "75%                      8.000000              0.229167             0.000000   \n",
      "max                     30.000000              0.830000             1.000000   \n",
      "\n",
      "       ...  ESTIMATED_SAVINGS  ESTIMATED_DAYS_TO_CLEAR_DEBT  \\\n",
      "count  ...       32581.000000                  32581.000000   \n",
      "mean   ...        4707.123114                     61.399226   \n",
      "std    ...        5050.276588                     38.537596   \n",
      "min    ...         120.833333                      0.284220   \n",
      "25%    ...        2527.916667                     32.275860   \n",
      "50%    ...        3833.333333                     53.333340   \n",
      "75%    ...        5666.666667                     82.500000   \n",
      "max    ...      499583.333333                    298.800000   \n",
      "\n",
      "       EARLY_PAYMENT_CAPABILITY  LOAN_INTENSITY_SCORE  \\\n",
      "count                   32581.0          28638.000000   \n",
      "mean                        1.0          33106.135152   \n",
      "std                         0.0          45171.716511   \n",
      "min                         1.0            341.363636   \n",
      "25%                         1.0           8820.000000   \n",
      "50%                         1.0          18145.333333   \n",
      "75%                         1.0          38020.000000   \n",
      "max                         1.0         652400.000000   \n",
      "\n",
      "       FINANCIAL_STABILITY_RATIO  INTEREST_RATE_ADJUSTED_BY_EMPLOYMENT  \\\n",
      "count               32581.000000                          28638.000000   \n",
      "mean                    9.766748                              3.533928   \n",
      "std                    14.905833                              3.530497   \n",
      "min                     1.204819                              0.052742   \n",
      "25%                     4.363636                              1.276667   \n",
      "50%                     6.750000                              2.165000   \n",
      "75%                    11.153846                              4.176667   \n",
      "max                  1266.666667                             21.360000   \n",
      "\n",
      "       AVAILABLE_MONTHLY_PAYMENT  OVERALL_LOAN_RISK  \\\n",
      "count               32581.000000       29465.000000   \n",
      "mean                 4709.407136           1.920440   \n",
      "std                  5052.808112           1.430872   \n",
      "min                   122.500000           0.010608   \n",
      "25%                  2528.000000           0.860564   \n",
      "50%                  3840.000000           1.535556   \n",
      "75%                  5671.666666           2.609091   \n",
      "max                500000.000000          11.493750   \n",
      "\n",
      "       ANNUAL_INCOME_DEDICATED_TO_LOAN  TOTAL_LOAN_COST  \n",
      "count                     32581.000000     29465.000000  \n",
      "mean                         17.055340     10670.235628  \n",
      "std                          10.704887      7119.877075  \n",
      "min                           0.078900       548.800000  \n",
      "25%                           8.965500      5481.500000  \n",
      "50%                          14.814800      8959.200000  \n",
      "75%                          22.916700     13825.200000  \n",
      "max                          83.000000     42087.500000  \n",
      "\n",
      "[8 rows x 22 columns]\n"
     ]
    }
   ],
   "source": [
    "print(data.describe())"
   ]
  },
  {
   "cell_type": "code",
   "execution_count": 28,
   "id": "95b4d2873929aa5e",
   "metadata": {
    "ExecuteTime": {
     "end_time": "2024-11-21T00:37:38.855469Z",
     "start_time": "2024-11-21T00:37:38.787506Z"
    }
   },
   "outputs": [
    {
     "name": "stdout",
     "output_type": "stream",
     "text": [
      "PERSON_HOME_OWNERSHIP: ['RENT' 'OWN' 'MORTGAGE' 'OTHER']\n",
      "LOAN_INTENT: ['PERSONAL' 'EDUCATION' 'MEDICAL' 'VENTURE' 'HOMEIMPROVEMENT'\n",
      " 'DEBTCONSOLIDATION']\n",
      "LOAN_GRADE: ['D' 'B' 'C' 'A' 'E' 'F' 'G']\n",
      "CB_PERSON_DEFAULT_ON_FILE: ['Y' 'N']\n",
      "AGE_GROUP: ['Joven' 'Adulto' 'Mayor']\n",
      "EMP_LENGTH_CATEGORY: ['Alta experiencia' 'Experiencia moderada' 'Poca experiencia'\n",
      " 'Desempleado']\n",
      "INTEREST_RATE_RISK: ['Alto' 'Moderado' 'Bajo']\n",
      "CREDIT_HISTORY_CATEGORY: ['Medio' 'Corto' 'Largo']\n",
      "HOME_OWNERSHIP_GROUP: ['Arrendatario' 'Propietario']\n",
      "LOAN_INTENT_CATEGORY: ['Personal' 'Educación/Salud' 'Negocios' 'Deuda']\n",
      "CREDIT_CONFIDENCE_LEVEL: ['Bajo' 'Moderado' 'Alto']\n",
      "SIMPLIFIED_EMP_LENGTH: ['Experto' 'Intermedio' 'Principiante']\n",
      "LOAN_AMOUNT_CATEGORY: ['Alto' 'Bajo' 'Medio']\n",
      "HOUSING_EMPLOYMENT_RISK: ['Moderado' 'Bajo' 'Alto']\n",
      "AGE_INTEREST_RISK: ['Joven-AltoRiesgo' 'Moderado' 'Mayor-BajoRiesgo']\n",
      "INCOME_RANGE: ['Alto' 'Bajo' 'Muy alto' 'Medio']\n",
      "HOUSING_DEBT_RISK: ['Alto riesgo en alquiler' 'Bajo riesgo como propietario' 'Moderado']\n",
      "CREDIT_RISK_COMBINED: ['Riesgo moderado' 'Riesgo extremo' 'Riesgo bajo']\n",
      "LOAN_SUSTAINABILITY: ['Insostenible' 'Sostenible']\n",
      "AGE_CREDIT_RISK: ['Riesgo moderado' 'Riesgo alto' 'Riesgo bajo']\n"
     ]
    }
   ],
   "source": [
    "for col in data.select_dtypes(include='object').columns:\n",
    "    print(f\"{col}: {data[col].unique()}\")"
   ]
  },
  {
   "cell_type": "code",
   "execution_count": 29,
   "id": "1ca3be10e313fdb2",
   "metadata": {
    "ExecuteTime": {
     "end_time": "2024-11-21T00:37:38.904506Z",
     "start_time": "2024-11-21T00:37:38.856388Z"
    }
   },
   "outputs": [
    {
     "name": "stdout",
     "output_type": "stream",
     "text": [
      "Porcentaje de valores faltantes por columna:\n",
      " PERSON_AGE                               0.000000\n",
      "PERSON_INCOME                            0.000000\n",
      "PERSON_HOME_OWNERSHIP                    0.000000\n",
      "PERSON_EMP_LENGTH                        2.747000\n",
      "LOAN_INTENT                              0.000000\n",
      "LOAN_GRADE                               0.000000\n",
      "LOAN_AMNT                                0.000000\n",
      "LOAN_INT_RATE                            9.563856\n",
      "LOAN_STATUS                              0.000000\n",
      "LOAN_PERCENT_INCOME                      0.000000\n",
      "CB_PERSON_DEFAULT_ON_FILE                0.000000\n",
      "CB_PERSON_CRED_HIST_LENGTH               0.000000\n",
      "AGE_GROUP                                0.000000\n",
      "LOAN_TO_INCOME_RATIO                     0.000000\n",
      "EMP_LENGTH_CATEGORY                      0.000000\n",
      "INTEREST_RATE_RISK                       0.000000\n",
      "CREDIT_HISTORY_CATEGORY                  0.000000\n",
      "HOME_OWNERSHIP_GROUP                     0.000000\n",
      "HIGH_DEBT_INDICATOR                      0.000000\n",
      "CREDIT_VS_LOAN_DURATION                  2.747000\n",
      "LOAN_INTENT_CATEGORY                     0.000000\n",
      "CREDIT_CONFIDENCE_LEVEL                  0.000000\n",
      "ADJUSTED_INTEREST_RATE                   9.563856\n",
      "ESTIMATED_SAVINGS                        0.000000\n",
      "SIMPLIFIED_EMP_LENGTH                    0.000000\n",
      "LOAN_AMOUNT_CATEGORY                     0.000000\n",
      "HOUSING_EMPLOYMENT_RISK                  0.000000\n",
      "AGE_INTEREST_RISK                        0.000000\n",
      "ESTIMATED_DAYS_TO_CLEAR_DEBT             0.000000\n",
      "EARLY_PAYMENT_CAPABILITY                 0.000000\n",
      "LOAN_INTENSITY_SCORE                    12.102145\n",
      "INCOME_RANGE                             0.000000\n",
      "FINANCIAL_STABILITY_RATIO                0.000000\n",
      "HOUSING_DEBT_RISK                        0.000000\n",
      "INTEREST_RATE_ADJUSTED_BY_EMPLOYMENT    12.102145\n",
      "AVAILABLE_MONTHLY_PAYMENT                0.000000\n",
      "CREDIT_RISK_COMBINED                     0.000000\n",
      "OVERALL_LOAN_RISK                        9.563856\n",
      "ANNUAL_INCOME_DEDICATED_TO_LOAN          0.000000\n",
      "LOAN_SUSTAINABILITY                      0.000000\n",
      "TOTAL_LOAN_COST                          9.563856\n",
      "AGE_CREDIT_RISK                          0.000000\n",
      "dtype: float64\n"
     ]
    }
   ],
   "source": [
    "missing_data = data.isnull().mean() * 100\n",
    "print(\"Porcentaje de valores faltantes por columna:\\n\", missing_data)"
   ]
  },
  {
   "cell_type": "code",
   "execution_count": 30,
   "id": "e85b39a7201110b0",
   "metadata": {
    "ExecuteTime": {
     "end_time": "2024-11-21T00:37:39.051452Z",
     "start_time": "2024-11-21T00:37:38.991610Z"
    }
   },
   "outputs": [
    {
     "name": "stdout",
     "output_type": "stream",
     "text": [
      "PERSON_HOME_OWNERSHIP: ['RENT' 'OWN' 'MORTGAGE' 'OTHER']\n",
      "LOAN_INTENT: ['PERSONAL' 'EDUCATION' 'MEDICAL' 'VENTURE' 'HOMEIMPROVEMENT'\n",
      " 'DEBTCONSOLIDATION']\n",
      "LOAN_GRADE: ['D' 'B' 'C' 'A' 'E' 'F' 'G']\n",
      "CB_PERSON_DEFAULT_ON_FILE: ['Y' 'N']\n",
      "AGE_GROUP: ['Joven' 'Adulto' 'Mayor']\n",
      "EMP_LENGTH_CATEGORY: ['Alta experiencia' 'Experiencia moderada' 'Poca experiencia'\n",
      " 'Desempleado']\n",
      "INTEREST_RATE_RISK: ['Alto' 'Moderado' 'Bajo']\n",
      "CREDIT_HISTORY_CATEGORY: ['Medio' 'Corto' 'Largo']\n",
      "HOME_OWNERSHIP_GROUP: ['Arrendatario' 'Propietario']\n",
      "LOAN_INTENT_CATEGORY: ['Personal' 'Educación/Salud' 'Negocios' 'Deuda']\n",
      "CREDIT_CONFIDENCE_LEVEL: ['Bajo' 'Moderado' 'Alto']\n",
      "SIMPLIFIED_EMP_LENGTH: ['Experto' 'Intermedio' 'Principiante']\n",
      "LOAN_AMOUNT_CATEGORY: ['Alto' 'Bajo' 'Medio']\n",
      "HOUSING_EMPLOYMENT_RISK: ['Moderado' 'Bajo' 'Alto']\n",
      "AGE_INTEREST_RISK: ['Joven-AltoRiesgo' 'Moderado' 'Mayor-BajoRiesgo']\n",
      "INCOME_RANGE: ['Alto' 'Bajo' 'Muy alto' 'Medio']\n",
      "HOUSING_DEBT_RISK: ['Alto riesgo en alquiler' 'Bajo riesgo como propietario' 'Moderado']\n",
      "CREDIT_RISK_COMBINED: ['Riesgo moderado' 'Riesgo extremo' 'Riesgo bajo']\n",
      "LOAN_SUSTAINABILITY: ['Insostenible' 'Sostenible']\n",
      "AGE_CREDIT_RISK: ['Riesgo moderado' 'Riesgo alto' 'Riesgo bajo']\n"
     ]
    }
   ],
   "source": [
    "categorical_columns = data.select_dtypes(include='object').columns\n",
    "for col in categorical_columns:\n",
    "    print(f\"{col}: {data[col].unique()}\")"
   ]
  },
  {
   "cell_type": "code",
   "execution_count": 31,
   "id": "710786e428197bc6",
   "metadata": {
    "ExecuteTime": {
     "end_time": "2024-11-21T00:37:39.491213Z",
     "start_time": "2024-11-21T00:37:39.476844Z"
    }
   },
   "outputs": [],
   "source": [
    "# Separar columnas categóricas y numéricas\n",
    "categorical_columns = data.select_dtypes(include='object').columns\n",
    "numerical_columns = data.select_dtypes(include=['float64', 'int64']).columns\n"
   ]
  },
  {
   "cell_type": "code",
   "execution_count": 32,
   "id": "abf37238d8a7a703",
   "metadata": {
    "ExecuteTime": {
     "end_time": "2024-11-21T00:37:39.976296Z",
     "start_time": "2024-11-21T00:37:39.832588Z"
    }
   },
   "outputs": [],
   "source": [
    "# Imputar valores faltantes en columnas numéricas\n",
    "for col in numerical_columns:\n",
    "    data[col] = data[col].fillna(data[col].median())\n",
    "\n",
    "# Imputar valores faltantes en columnas categóricas\n",
    "for col in categorical_columns:\n",
    "    data[col] = data[col].fillna(data[col].mode()[0])\n"
   ]
  },
  {
   "cell_type": "code",
   "execution_count": 33,
   "id": "1df0ce104d95111e",
   "metadata": {
    "ExecuteTime": {
     "end_time": "2024-11-21T00:37:40.266036Z",
     "start_time": "2024-11-21T00:37:40.143759Z"
    }
   },
   "outputs": [],
   "source": [
    "from sklearn.preprocessing import LabelEncoder\n",
    "\n",
    "label_encoder = LabelEncoder()\n",
    "for col in categorical_columns:\n",
    "    data[col] = label_encoder.fit_transform(data[col])"
   ]
  },
  {
   "cell_type": "code",
   "execution_count": 34,
   "id": "7ba4e50e8a10694",
   "metadata": {
    "ExecuteTime": {
     "end_time": "2024-11-21T00:37:40.483614Z",
     "start_time": "2024-11-21T00:37:40.460250Z"
    }
   },
   "outputs": [],
   "source": [
    "from sklearn.preprocessing import MinMaxScaler\n",
    "\n",
    "scaler = MinMaxScaler()\n",
    "numerical_columns = data.select_dtypes(include=['float64', 'int64']).columns\n",
    "\n",
    "data[numerical_columns] = scaler.fit_transform(data[numerical_columns])"
   ]
  },
  {
   "cell_type": "code",
   "execution_count": 35,
   "id": "e8743367489d469b",
   "metadata": {
    "ExecuteTime": {
     "end_time": "2024-11-21T00:37:40.832145Z",
     "start_time": "2024-11-21T00:37:40.805918Z"
    }
   },
   "outputs": [],
   "source": [
    "from sklearn.model_selection import train_test_split\n",
    "\n",
    "# Dividir en X (features) e y (target)\n",
    "X = data.drop('LOAN_STATUS', axis=1)\n",
    "y = data['LOAN_STATUS']\n",
    "\n",
    "# División en entrenamiento y prueba\n",
    "X_train, X_test, y_train, y_test = train_test_split(X, y, test_size=0.2, random_state=42, stratify=y)"
   ]
  },
  {
   "cell_type": "code",
   "execution_count": 36,
   "id": "dea379a984e3ea71",
   "metadata": {
    "ExecuteTime": {
     "end_time": "2024-11-21T00:37:45.767635Z",
     "start_time": "2024-11-21T00:37:41.130456Z"
    }
   },
   "outputs": [],
   "source": [
    "from sklearn.ensemble import RandomForestClassifier\n",
    "\n",
    "# Modelo Random Forest\n",
    "model = RandomForestClassifier(random_state=42)\n",
    "model.fit(X_train, y_train)\n",
    "\n",
    "# Predicción\n",
    "y_pred = model.predict(X_test)\n"
   ]
  },
  {
   "cell_type": "code",
   "execution_count": 37,
   "id": "d147d334d43b857f",
   "metadata": {
    "ExecuteTime": {
     "end_time": "2024-11-21T00:37:45.783328Z",
     "start_time": "2024-11-21T00:37:45.768611Z"
    }
   },
   "outputs": [
    {
     "name": "stdout",
     "output_type": "stream",
     "text": [
      "Accuracy: 0.9286481509897192\n",
      "Confusion Matrix:\n",
      " [[5058   37]\n",
      " [ 428  994]]\n",
      "Classification Report:\n",
      "               precision    recall  f1-score   support\n",
      "\n",
      "         0.0       0.92      0.99      0.96      5095\n",
      "         1.0       0.96      0.70      0.81      1422\n",
      "\n",
      "    accuracy                           0.93      6517\n",
      "   macro avg       0.94      0.85      0.88      6517\n",
      "weighted avg       0.93      0.93      0.92      6517\n",
      "\n"
     ]
    }
   ],
   "source": [
    "from sklearn.metrics import accuracy_score, confusion_matrix, classification_report\n",
    "\n",
    "# Evaluación\n",
    "print(\"Accuracy:\", accuracy_score(y_test, y_pred))\n",
    "print(\"Confusion Matrix:\\n\", confusion_matrix(y_test, y_pred))\n",
    "print(\"Classification Report:\\n\", classification_report(y_test, y_pred))\n"
   ]
  },
  {
   "cell_type": "code",
   "execution_count": 38,
   "id": "6743265311423e54",
   "metadata": {
    "ExecuteTime": {
     "end_time": "2024-11-21T00:38:03.610298Z",
     "start_time": "2024-11-21T00:37:45.784230Z"
    }
   },
   "outputs": [
    {
     "name": "stdout",
     "output_type": "stream",
     "text": [
      "Cross-validation scores: [0.9276808  0.93017456 0.92729714 0.926338   0.9267076 ]\n",
      "Mean cross-validation score: 0.9276396204718148\n"
     ]
    }
   ],
   "source": [
    "from sklearn.model_selection import cross_val_score\n",
    "\n",
    "scores = cross_val_score(model, X_train, y_train, cv=5)\n",
    "print(\"Cross-validation scores:\", scores)\n",
    "print(\"Mean cross-validation score:\", scores.mean())\n"
   ]
  },
  {
   "cell_type": "code",
   "execution_count": 39,
   "id": "7447a34cad44fd1a",
   "metadata": {
    "ExecuteTime": {
     "end_time": "2024-11-21T00:49:11.238779Z",
     "start_time": "2024-11-21T00:38:03.611958Z"
    }
   },
   "outputs": [
    {
     "name": "stdout",
     "output_type": "stream",
     "text": [
      "Best parameters: {'max_depth': 30, 'min_samples_split': 2, 'n_estimators': 200}\n"
     ]
    }
   ],
   "source": [
    "from sklearn.model_selection import GridSearchCV\n",
    "\n",
    "param_grid = {\n",
    "    'n_estimators': [50, 100, 200],\n",
    "    'max_depth': [None, 10, 20, 30],\n",
    "    'min_samples_split': [2, 5, 10]\n",
    "}\n",
    "\n",
    "grid_search = GridSearchCV(model, param_grid, cv=5)\n",
    "grid_search.fit(X_train, y_train)\n",
    "\n",
    "print(\"Best parameters:\", grid_search.best_params_)\n"
   ]
  },
  {
   "cell_type": "code",
   "execution_count": 40,
   "id": "473457389ec853d9",
   "metadata": {
    "ExecuteTime": {
     "end_time": "2024-11-21T00:49:11.256995Z",
     "start_time": "2024-11-21T00:49:11.240135Z"
    }
   },
   "outputs": [
    {
     "name": "stdout",
     "output_type": "stream",
     "text": [
      "                                 Feature  Importance\n",
      "5                             LOAN_GRADE    0.080472\n",
      "27          ESTIMATED_DAYS_TO_CLEAR_DEBT    0.060019\n",
      "12                  LOAN_TO_INCOME_RATIO    0.058599\n",
      "37       ANNUAL_INCOME_DEDICATED_TO_LOAN    0.058334\n",
      "21                ADJUSTED_INTEREST_RATE    0.051487\n",
      "31             FINANCIAL_STABILITY_RATIO    0.048495\n",
      "7                          LOAN_INT_RATE    0.047948\n",
      "16                  HOME_OWNERSHIP_GROUP    0.046821\n",
      "8                    LOAN_PERCENT_INCOME    0.044524\n",
      "2                  PERSON_HOME_OWNERSHIP    0.043588\n",
      "1                          PERSON_INCOME    0.043333\n",
      "22                     ESTIMATED_SAVINGS    0.042141\n",
      "34             AVAILABLE_MONTHLY_PAYMENT    0.041252\n",
      "36                     OVERALL_LOAN_RISK    0.034275\n",
      "33  INTEREST_RATE_ADJUSTED_BY_EMPLOYMENT    0.030759\n",
      "4                            LOAN_INTENT    0.030219\n",
      "25               HOUSING_EMPLOYMENT_RISK    0.023579\n",
      "39                       TOTAL_LOAN_COST    0.023397\n",
      "29                  LOAN_INTENSITY_SCORE    0.022991\n",
      "19                  LOAN_INTENT_CATEGORY    0.022799\n",
      "6                              LOAN_AMNT    0.018935\n",
      "3                      PERSON_EMP_LENGTH    0.016952\n",
      "18               CREDIT_VS_LOAN_DURATION    0.015483\n",
      "0                             PERSON_AGE    0.015421\n",
      "10            CB_PERSON_CRED_HIST_LENGTH    0.010997\n",
      "14                    INTEREST_RATE_RISK    0.008645\n",
      "26                     AGE_INTEREST_RISK    0.008284\n",
      "32                     HOUSING_DEBT_RISK    0.008235\n",
      "30                          INCOME_RANGE    0.005982\n",
      "13                   EMP_LENGTH_CATEGORY    0.005398\n",
      "23                 SIMPLIFIED_EMP_LENGTH    0.004778\n",
      "9              CB_PERSON_DEFAULT_ON_FILE    0.004377\n",
      "15               CREDIT_HISTORY_CATEGORY    0.004092\n",
      "40                       AGE_CREDIT_RISK    0.003874\n",
      "11                             AGE_GROUP    0.003528\n",
      "20               CREDIT_CONFIDENCE_LEVEL    0.003138\n",
      "35                  CREDIT_RISK_COMBINED    0.002638\n",
      "38                   LOAN_SUSTAINABILITY    0.002260\n",
      "24                  LOAN_AMOUNT_CATEGORY    0.001599\n",
      "17                   HIGH_DEBT_INDICATOR    0.000349\n",
      "28              EARLY_PAYMENT_CAPABILITY    0.000000\n"
     ]
    }
   ],
   "source": [
    "feature_importances = pd.DataFrame({\n",
    "    'Feature': X.columns,\n",
    "    'Importance': model.feature_importances_\n",
    "}).sort_values(by='Importance', ascending=False)\n",
    "\n",
    "print(feature_importances)"
   ]
  },
  {
   "cell_type": "code",
   "execution_count": 41,
   "id": "9314715d92c66f8f",
   "metadata": {
    "ExecuteTime": {
     "end_time": "2024-11-21T00:49:11.439882Z",
     "start_time": "2024-11-21T00:49:11.257880Z"
    }
   },
   "outputs": [
    {
     "data": {
      "image/png": "[encoded data removed]",
      "text/plain": [
       "<Figure size 640x480 with 1 Axes>"
      ]
     },
     "metadata": {},
     "output_type": "display_data"
    }
   ],
   "source": [
    "from matplotlib import pyplot as plt\n",
    "from sklearn.metrics import roc_curve, auc\n",
    "\n",
    "y_prob = model.predict_proba(X_test)[:, 1]\n",
    "fpr, tpr, _ = roc_curve(y_test, y_prob)\n",
    "roc_auc = auc(fpr, tpr)\n",
    "\n",
    "plt.figure()\n",
    "plt.plot(fpr, tpr, label=f\"ROC Curve (AUC = {roc_auc:.2f})\")\n",
    "plt.xlabel(\"False Positive Rate\")\n",
    "plt.ylabel(\"True Positive Rate\")\n",
    "plt.title(\"ROC Curve\")\n",
    "plt.legend(loc=\"lower right\")\n",
    "plt.show()\n"
   ]
  },
  {
   "cell_type": "code",
   "execution_count": 42,
   "id": "ad00db4781219a63",
   "metadata": {
    "ExecuteTime": {
     "end_time": "2024-11-21T00:49:11.526882Z",
     "start_time": "2024-11-21T00:49:11.440676Z"
    }
   },
   "outputs": [
    {
     "data": {
      "image/png": "[encoded data removed]",
      "text/plain": [
       "<Figure size 640x480 with 2 Axes>"
      ]
     },
     "metadata": {},
     "output_type": "display_data"
    }
   ],
   "source": [
    "import seaborn as sns\n",
    "\n",
    "sns.heatmap(confusion_matrix(y_test, y_pred), annot=True, fmt='d', cmap='Blues')\n",
    "plt.title(\"Confusion Matrix Heatmap\")\n",
    "plt.xlabel(\"Predicted\")\n",
    "plt.ylabel(\"Actual\")\n",
    "plt.show()\n"
   ]
  },
  {
   "cell_type": "code",
   "execution_count": 43,
   "id": "96d508a18cef0429",
   "metadata": {
    "ExecuteTime": {
     "end_time": "2024-11-21T00:49:11.551621Z",
     "start_time": "2024-11-21T00:49:11.527937Z"
    }
   },
   "outputs": [],
   "source": [
    "import pickle\n",
    "with open(\"loan_model.pkl\", \"wb\") as file:\n",
    "    pickle.dump(model, file)"
   ]
  },
  {
   "cell_type": "code",
   "execution_count": 44,
   "id": "2dc9634ced259084",
   "metadata": {
    "ExecuteTime": {
     "end_time": "2024-11-21T00:49:14.187567Z",
     "start_time": "2024-11-21T00:49:11.552583Z"
    }
   },
   "outputs": [
    {
     "data": {
      "text/html": [
       "<style type=\"text/css\">\n",
       "#T_ec405_row8_col1, #T_ec405_row12_col1 {\n",
       "  background-color: lightgreen;\n",
       "}\n",
       "</style>\n",
       "<table id=\"T_ec405\">\n",
       "  <thead>\n",
       "    <tr>\n",
       "      <th class=\"blank level0\" >&nbsp;</th>\n",
       "      <th id=\"T_ec405_level0_col0\" class=\"col_heading level0 col0\" >Description</th>\n",
       "      <th id=\"T_ec405_level0_col1\" class=\"col_heading level0 col1\" >Value</th>\n",
       "    </tr>\n",
       "  </thead>\n",
       "  <tbody>\n",
       "    <tr>\n",
       "      <th id=\"T_ec405_level0_row0\" class=\"row_heading level0 row0\" >0</th>\n",
       "      <td id=\"T_ec405_row0_col0\" class=\"data row0 col0\" >Session id</td>\n",
       "      <td id=\"T_ec405_row0_col1\" class=\"data row0 col1\" >42</td>\n",
       "    </tr>\n",
       "    <tr>\n",
       "      <th id=\"T_ec405_level0_row1\" class=\"row_heading level0 row1\" >1</th>\n",
       "      <td id=\"T_ec405_row1_col0\" class=\"data row1 col0\" >Target</td>\n",
       "      <td id=\"T_ec405_row1_col1\" class=\"data row1 col1\" >LOAN_STATUS</td>\n",
       "    </tr>\n",
       "    <tr>\n",
       "      <th id=\"T_ec405_level0_row2\" class=\"row_heading level0 row2\" >2</th>\n",
       "      <td id=\"T_ec405_row2_col0\" class=\"data row2 col0\" >Target type</td>\n",
       "      <td id=\"T_ec405_row2_col1\" class=\"data row2 col1\" >Binary</td>\n",
       "    </tr>\n",
       "    <tr>\n",
       "      <th id=\"T_ec405_level0_row3\" class=\"row_heading level0 row3\" >3</th>\n",
       "      <td id=\"T_ec405_row3_col0\" class=\"data row3 col0\" >Original data shape</td>\n",
       "      <td id=\"T_ec405_row3_col1\" class=\"data row3 col1\" >(32581, 42)</td>\n",
       "    </tr>\n",
       "    <tr>\n",
       "      <th id=\"T_ec405_level0_row4\" class=\"row_heading level0 row4\" >4</th>\n",
       "      <td id=\"T_ec405_row4_col0\" class=\"data row4 col0\" >Transformed data shape</td>\n",
       "      <td id=\"T_ec405_row4_col1\" class=\"data row4 col1\" >(32581, 42)</td>\n",
       "    </tr>\n",
       "    <tr>\n",
       "      <th id=\"T_ec405_level0_row5\" class=\"row_heading level0 row5\" >5</th>\n",
       "      <td id=\"T_ec405_row5_col0\" class=\"data row5 col0\" >Transformed train set shape</td>\n",
       "      <td id=\"T_ec405_row5_col1\" class=\"data row5 col1\" >(26064, 42)</td>\n",
       "    </tr>\n",
       "    <tr>\n",
       "      <th id=\"T_ec405_level0_row6\" class=\"row_heading level0 row6\" >6</th>\n",
       "      <td id=\"T_ec405_row6_col0\" class=\"data row6 col0\" >Transformed test set shape</td>\n",
       "      <td id=\"T_ec405_row6_col1\" class=\"data row6 col1\" >(6517, 42)</td>\n",
       "    </tr>\n",
       "    <tr>\n",
       "      <th id=\"T_ec405_level0_row7\" class=\"row_heading level0 row7\" >7</th>\n",
       "      <td id=\"T_ec405_row7_col0\" class=\"data row7 col0\" >Numeric features</td>\n",
       "      <td id=\"T_ec405_row7_col1\" class=\"data row7 col1\" >41</td>\n",
       "    </tr>\n",
       "    <tr>\n",
       "      <th id=\"T_ec405_level0_row8\" class=\"row_heading level0 row8\" >8</th>\n",
       "      <td id=\"T_ec405_row8_col0\" class=\"data row8 col0\" >Preprocess</td>\n",
       "      <td id=\"T_ec405_row8_col1\" class=\"data row8 col1\" >True</td>\n",
       "    </tr>\n",
       "    <tr>\n",
       "      <th id=\"T_ec405_level0_row9\" class=\"row_heading level0 row9\" >9</th>\n",
       "      <td id=\"T_ec405_row9_col0\" class=\"data row9 col0\" >Imputation type</td>\n",
       "      <td id=\"T_ec405_row9_col1\" class=\"data row9 col1\" >simple</td>\n",
       "    </tr>\n",
       "    <tr>\n",
       "      <th id=\"T_ec405_level0_row10\" class=\"row_heading level0 row10\" >10</th>\n",
       "      <td id=\"T_ec405_row10_col0\" class=\"data row10 col0\" >Numeric imputation</td>\n",
       "      <td id=\"T_ec405_row10_col1\" class=\"data row10 col1\" >mean</td>\n",
       "    </tr>\n",
       "    <tr>\n",
       "      <th id=\"T_ec405_level0_row11\" class=\"row_heading level0 row11\" >11</th>\n",
       "      <td id=\"T_ec405_row11_col0\" class=\"data row11 col0\" >Categorical imputation</td>\n",
       "      <td id=\"T_ec405_row11_col1\" class=\"data row11 col1\" >mode</td>\n",
       "    </tr>\n",
       "    <tr>\n",
       "      <th id=\"T_ec405_level0_row12\" class=\"row_heading level0 row12\" >12</th>\n",
       "      <td id=\"T_ec405_row12_col0\" class=\"data row12 col0\" >Normalize</td>\n",
       "      <td id=\"T_ec405_row12_col1\" class=\"data row12 col1\" >True</td>\n",
       "    </tr>\n",
       "    <tr>\n",
       "      <th id=\"T_ec405_level0_row13\" class=\"row_heading level0 row13\" >13</th>\n",
       "      <td id=\"T_ec405_row13_col0\" class=\"data row13 col0\" >Normalize method</td>\n",
       "      <td id=\"T_ec405_row13_col1\" class=\"data row13 col1\" >zscore</td>\n",
       "    </tr>\n",
       "    <tr>\n",
       "      <th id=\"T_ec405_level0_row14\" class=\"row_heading level0 row14\" >14</th>\n",
       "      <td id=\"T_ec405_row14_col0\" class=\"data row14 col0\" >Fold Generator</td>\n",
       "      <td id=\"T_ec405_row14_col1\" class=\"data row14 col1\" >StratifiedKFold</td>\n",
       "    </tr>\n",
       "    <tr>\n",
       "      <th id=\"T_ec405_level0_row15\" class=\"row_heading level0 row15\" >15</th>\n",
       "      <td id=\"T_ec405_row15_col0\" class=\"data row15 col0\" >Fold Number</td>\n",
       "      <td id=\"T_ec405_row15_col1\" class=\"data row15 col1\" >10</td>\n",
       "    </tr>\n",
       "    <tr>\n",
       "      <th id=\"T_ec405_level0_row16\" class=\"row_heading level0 row16\" >16</th>\n",
       "      <td id=\"T_ec405_row16_col0\" class=\"data row16 col0\" >CPU Jobs</td>\n",
       "      <td id=\"T_ec405_row16_col1\" class=\"data row16 col1\" >-1</td>\n",
       "    </tr>\n",
       "    <tr>\n",
       "      <th id=\"T_ec405_level0_row17\" class=\"row_heading level0 row17\" >17</th>\n",
       "      <td id=\"T_ec405_row17_col0\" class=\"data row17 col0\" >Use GPU</td>\n",
       "      <td id=\"T_ec405_row17_col1\" class=\"data row17 col1\" >False</td>\n",
       "    </tr>\n",
       "    <tr>\n",
       "      <th id=\"T_ec405_level0_row18\" class=\"row_heading level0 row18\" >18</th>\n",
       "      <td id=\"T_ec405_row18_col0\" class=\"data row18 col0\" >Log Experiment</td>\n",
       "      <td id=\"T_ec405_row18_col1\" class=\"data row18 col1\" >False</td>\n",
       "    </tr>\n",
       "    <tr>\n",
       "      <th id=\"T_ec405_level0_row19\" class=\"row_heading level0 row19\" >19</th>\n",
       "      <td id=\"T_ec405_row19_col0\" class=\"data row19 col0\" >Experiment Name</td>\n",
       "      <td id=\"T_ec405_row19_col1\" class=\"data row19 col1\" >clf-default-name</td>\n",
       "    </tr>\n",
       "    <tr>\n",
       "      <th id=\"T_ec405_level0_row20\" class=\"row_heading level0 row20\" >20</th>\n",
       "      <td id=\"T_ec405_row20_col0\" class=\"data row20 col0\" >USI</td>\n",
       "      <td id=\"T_ec405_row20_col1\" class=\"data row20 col1\" >dd6f</td>\n",
       "    </tr>\n",
       "  </tbody>\n",
       "</table>\n"
      ],
      "text/plain": [
       "<pandas.io.formats.style.Styler at 0x30890f940>"
      ]
     },
     "metadata": {},
     "output_type": "display_data"
    }
   ],
   "source": [
    "from pycaret.classification import *\n",
    "\n",
    "clf = setup(\n",
    "    data=data,\n",
    "    target='LOAN_STATUS',\n",
    "    train_size=0.8,\n",
    "    session_id=42,  # Para reproducibilidad\n",
    "    normalize=True,  # Normaliza las variables numéricas\n",
    "    categorical_features=None\n",
    ")"
   ]
  },
  {
   "cell_type": "code",
   "execution_count": 45,
   "id": "3c45405d639b4a88",
   "metadata": {
    "ExecuteTime": {
     "end_time": "2024-11-21T00:50:14.719483Z",
     "start_time": "2024-11-21T00:49:14.189691Z"
    }
   },
   "outputs": [
    {
     "data": {
      "text/html": [
       "<div>\n",
       "<style scoped>\n",
       "    .dataframe tbody tr th:only-of-type {\n",
       "        vertical-align: middle;\n",
       "    }\n",
       "\n",
       "    .dataframe tbody tr th {\n",
       "        vertical-align: top;\n",
       "    }\n",
       "\n",
       "    .dataframe thead th {\n",
       "        text-align: right;\n",
       "    }\n",
       "</style>\n",
       "<table border=\"1\" class=\"dataframe\">\n",
       "  <thead>\n",
       "    <tr style=\"text-align: right;\">\n",
       "      <th></th>\n",
       "      <th></th>\n",
       "      <th></th>\n",
       "    </tr>\n",
       "    <tr>\n",
       "      <th></th>\n",
       "      <th></th>\n",
       "      <th></th>\n",
       "    </tr>\n",
       "  </thead>\n",
       "  <tbody>\n",
       "    <tr>\n",
       "      <th>Initiated</th>\n",
       "      <td>. . . . . . . . . . . . . . . . . .</td>\n",
       "      <td>19:49:14</td>\n",
       "    </tr>\n",
       "    <tr>\n",
       "      <th>Status</th>\n",
       "      <td>. . . . . . . . . . . . . . . . . .</td>\n",
       "      <td>Loading Dependencies</td>\n",
       "    </tr>\n",
       "    <tr>\n",
       "      <th>Estimator</th>\n",
       "      <td>. . . . . . . . . . . . . . . . . .</td>\n",
       "      <td>Compiling Library</td>\n",
       "    </tr>\n",
       "  </tbody>\n",
       "</table>\n",
       "</div>"
      ],
      "text/plain": [
       "                                                                    \n",
       "                                                                    \n",
       "Initiated  . . . . . . . . . . . . . . . . . .              19:49:14\n",
       "Status     . . . . . . . . . . . . . . . . . .  Loading Dependencies\n",
       "Estimator  . . . . . . . . . . . . . . . . . .     Compiling Library"
      ]
     },
     "metadata": {},
     "output_type": "display_data"
    },
    {
     "data": {
      "text/html": [],
      "text/plain": [
       "<IPython.core.display.HTML object>"
      ]
     },
     "metadata": {},
     "output_type": "display_data"
    },
    {
     "data": {
      "text/html": [
       "<style type=\"text/css\">\n",
       "#T_d4874 th {\n",
       "  text-align: left;\n",
       "}\n",
       "#T_d4874_row0_col0, #T_d4874_row0_col3, #T_d4874_row1_col0, #T_d4874_row1_col1, #T_d4874_row1_col2, #T_d4874_row1_col3, #T_d4874_row1_col4, #T_d4874_row1_col5, #T_d4874_row1_col6, #T_d4874_row1_col7, #T_d4874_row2_col0, #T_d4874_row2_col1, #T_d4874_row2_col2, #T_d4874_row2_col3, #T_d4874_row2_col4, #T_d4874_row2_col5, #T_d4874_row2_col6, #T_d4874_row2_col7, #T_d4874_row3_col0, #T_d4874_row3_col1, #T_d4874_row3_col2, #T_d4874_row3_col3, #T_d4874_row3_col4, #T_d4874_row3_col5, #T_d4874_row3_col6, #T_d4874_row3_col7, #T_d4874_row4_col0, #T_d4874_row4_col1, #T_d4874_row4_col2, #T_d4874_row4_col3, #T_d4874_row4_col4, #T_d4874_row4_col5, #T_d4874_row4_col6, #T_d4874_row4_col7, #T_d4874_row5_col0, #T_d4874_row5_col1, #T_d4874_row5_col2, #T_d4874_row5_col3, #T_d4874_row5_col4, #T_d4874_row5_col5, #T_d4874_row5_col6, #T_d4874_row5_col7, #T_d4874_row6_col0, #T_d4874_row6_col1, #T_d4874_row6_col2, #T_d4874_row6_col3, #T_d4874_row6_col4, #T_d4874_row6_col5, #T_d4874_row6_col6, #T_d4874_row6_col7, #T_d4874_row7_col0, #T_d4874_row7_col1, #T_d4874_row7_col2, #T_d4874_row7_col4, #T_d4874_row7_col5, #T_d4874_row7_col6, #T_d4874_row7_col7, #T_d4874_row8_col0, #T_d4874_row8_col1, #T_d4874_row8_col2, #T_d4874_row8_col3, #T_d4874_row8_col4, #T_d4874_row8_col5, #T_d4874_row8_col6, #T_d4874_row8_col7, #T_d4874_row9_col0, #T_d4874_row9_col1, #T_d4874_row9_col2, #T_d4874_row9_col3, #T_d4874_row9_col4, #T_d4874_row9_col5, #T_d4874_row9_col6, #T_d4874_row9_col7, #T_d4874_row10_col0, #T_d4874_row10_col1, #T_d4874_row10_col2, #T_d4874_row10_col3, #T_d4874_row10_col4, #T_d4874_row10_col5, #T_d4874_row10_col6, #T_d4874_row10_col7, #T_d4874_row11_col0, #T_d4874_row11_col1, #T_d4874_row11_col2, #T_d4874_row11_col3, #T_d4874_row11_col4, #T_d4874_row11_col5, #T_d4874_row11_col6, #T_d4874_row11_col7, #T_d4874_row12_col0, #T_d4874_row12_col1, #T_d4874_row12_col2, #T_d4874_row12_col3, #T_d4874_row12_col4, #T_d4874_row12_col5, #T_d4874_row12_col6, #T_d4874_row12_col7, #T_d4874_row13_col0, #T_d4874_row13_col1, #T_d4874_row13_col2, #T_d4874_row13_col3, #T_d4874_row13_col4, #T_d4874_row13_col5, #T_d4874_row13_col6, #T_d4874_row13_col7, #T_d4874_row14_col0, #T_d4874_row14_col1, #T_d4874_row14_col2, #T_d4874_row14_col3, #T_d4874_row14_col4, #T_d4874_row14_col5, #T_d4874_row14_col6, #T_d4874_row14_col7, #T_d4874_row15_col0, #T_d4874_row15_col1, #T_d4874_row15_col2, #T_d4874_row15_col3, #T_d4874_row15_col4, #T_d4874_row15_col5, #T_d4874_row15_col6, #T_d4874_row15_col7 {\n",
       "  text-align: left;\n",
       "}\n",
       "#T_d4874_row0_col1, #T_d4874_row0_col2, #T_d4874_row0_col4, #T_d4874_row0_col5, #T_d4874_row0_col6, #T_d4874_row0_col7, #T_d4874_row7_col3 {\n",
       "  text-align: left;\n",
       "  background-color: yellow;\n",
       "}\n",
       "#T_d4874_row0_col8, #T_d4874_row1_col8, #T_d4874_row2_col8, #T_d4874_row3_col8, #T_d4874_row4_col8, #T_d4874_row5_col8, #T_d4874_row6_col8, #T_d4874_row7_col8, #T_d4874_row8_col8, #T_d4874_row9_col8, #T_d4874_row10_col8, #T_d4874_row12_col8, #T_d4874_row14_col8, #T_d4874_row15_col8 {\n",
       "  text-align: left;\n",
       "  background-color: lightgrey;\n",
       "}\n",
       "#T_d4874_row11_col8, #T_d4874_row13_col8 {\n",
       "  text-align: left;\n",
       "  background-color: yellow;\n",
       "  background-color: lightgrey;\n",
       "}\n",
       "</style>\n",
       "<table id=\"T_d4874\">\n",
       "  <thead>\n",
       "    <tr>\n",
       "      <th class=\"blank level0\" >&nbsp;</th>\n",
       "      <th id=\"T_d4874_level0_col0\" class=\"col_heading level0 col0\" >Model</th>\n",
       "      <th id=\"T_d4874_level0_col1\" class=\"col_heading level0 col1\" >Accuracy</th>\n",
       "      <th id=\"T_d4874_level0_col2\" class=\"col_heading level0 col2\" >AUC</th>\n",
       "      <th id=\"T_d4874_level0_col3\" class=\"col_heading level0 col3\" >Recall</th>\n",
       "      <th id=\"T_d4874_level0_col4\" class=\"col_heading level0 col4\" >Prec.</th>\n",
       "      <th id=\"T_d4874_level0_col5\" class=\"col_heading level0 col5\" >F1</th>\n",
       "      <th id=\"T_d4874_level0_col6\" class=\"col_heading level0 col6\" >Kappa</th>\n",
       "      <th id=\"T_d4874_level0_col7\" class=\"col_heading level0 col7\" >MCC</th>\n",
       "      <th id=\"T_d4874_level0_col8\" class=\"col_heading level0 col8\" >TT (Sec)</th>\n",
       "    </tr>\n",
       "  </thead>\n",
       "  <tbody>\n",
       "    <tr>\n",
       "      <th id=\"T_d4874_level0_row0\" class=\"row_heading level0 row0\" >catboost</th>\n",
       "      <td id=\"T_d4874_row0_col0\" class=\"data row0 col0\" >CatBoost Classifier</td>\n",
       "      <td id=\"T_d4874_row0_col1\" class=\"data row0 col1\" >0.9372</td>\n",
       "      <td id=\"T_d4874_row0_col2\" class=\"data row0 col2\" >0.9470</td>\n",
       "      <td id=\"T_d4874_row0_col3\" class=\"data row0 col3\" >0.7288</td>\n",
       "      <td id=\"T_d4874_row0_col4\" class=\"data row0 col4\" >0.9774</td>\n",
       "      <td id=\"T_d4874_row0_col5\" class=\"data row0 col5\" >0.8349</td>\n",
       "      <td id=\"T_d4874_row0_col6\" class=\"data row0 col6\" >0.7971</td>\n",
       "      <td id=\"T_d4874_row0_col7\" class=\"data row0 col7\" >0.8102</td>\n",
       "      <td id=\"T_d4874_row0_col8\" class=\"data row0 col8\" >1.7350</td>\n",
       "    </tr>\n",
       "    <tr>\n",
       "      <th id=\"T_d4874_level0_row1\" class=\"row_heading level0 row1\" >lightgbm</th>\n",
       "      <td id=\"T_d4874_row1_col0\" class=\"data row1 col0\" >Light Gradient Boosting Machine</td>\n",
       "      <td id=\"T_d4874_row1_col1\" class=\"data row1 col1\" >0.9364</td>\n",
       "      <td id=\"T_d4874_row1_col2\" class=\"data row1 col2\" >0.9468</td>\n",
       "      <td id=\"T_d4874_row1_col3\" class=\"data row1 col3\" >0.7263</td>\n",
       "      <td id=\"T_d4874_row1_col4\" class=\"data row1 col4\" >0.9760</td>\n",
       "      <td id=\"T_d4874_row1_col5\" class=\"data row1 col5\" >0.8327</td>\n",
       "      <td id=\"T_d4874_row1_col6\" class=\"data row1 col6\" >0.7945</td>\n",
       "      <td id=\"T_d4874_row1_col7\" class=\"data row1 col7\" >0.8078</td>\n",
       "      <td id=\"T_d4874_row1_col8\" class=\"data row1 col8\" >0.5440</td>\n",
       "    </tr>\n",
       "    <tr>\n",
       "      <th id=\"T_d4874_level0_row2\" class=\"row_heading level0 row2\" >xgboost</th>\n",
       "      <td id=\"T_d4874_row2_col0\" class=\"data row2 col0\" >Extreme Gradient Boosting</td>\n",
       "      <td id=\"T_d4874_row2_col1\" class=\"data row2 col1\" >0.9358</td>\n",
       "      <td id=\"T_d4874_row2_col2\" class=\"data row2 col2\" >0.9451</td>\n",
       "      <td id=\"T_d4874_row2_col3\" class=\"data row2 col3\" >0.7380</td>\n",
       "      <td id=\"T_d4874_row2_col4\" class=\"data row2 col4\" >0.9585</td>\n",
       "      <td id=\"T_d4874_row2_col5\" class=\"data row2 col5\" >0.8338</td>\n",
       "      <td id=\"T_d4874_row2_col6\" class=\"data row2 col6\" >0.7949</td>\n",
       "      <td id=\"T_d4874_row2_col7\" class=\"data row2 col7\" >0.8054</td>\n",
       "      <td id=\"T_d4874_row2_col8\" class=\"data row2 col8\" >0.0730</td>\n",
       "    </tr>\n",
       "    <tr>\n",
       "      <th id=\"T_d4874_level0_row3\" class=\"row_heading level0 row3\" >rf</th>\n",
       "      <td id=\"T_d4874_row3_col0\" class=\"data row3 col0\" >Random Forest Classifier</td>\n",
       "      <td id=\"T_d4874_row3_col1\" class=\"data row3 col1\" >0.9284</td>\n",
       "      <td id=\"T_d4874_row3_col2\" class=\"data row3 col2\" >0.9304</td>\n",
       "      <td id=\"T_d4874_row3_col3\" class=\"data row3 col3\" >0.7005</td>\n",
       "      <td id=\"T_d4874_row3_col4\" class=\"data row3 col4\" >0.9608</td>\n",
       "      <td id=\"T_d4874_row3_col5\" class=\"data row3 col5\" >0.8101</td>\n",
       "      <td id=\"T_d4874_row3_col6\" class=\"data row3 col6\" >0.7673</td>\n",
       "      <td id=\"T_d4874_row3_col7\" class=\"data row3 col7\" >0.7820</td>\n",
       "      <td id=\"T_d4874_row3_col8\" class=\"data row3 col8\" >0.6110</td>\n",
       "    </tr>\n",
       "    <tr>\n",
       "      <th id=\"T_d4874_level0_row4\" class=\"row_heading level0 row4\" >gbc</th>\n",
       "      <td id=\"T_d4874_row4_col0\" class=\"data row4 col0\" >Gradient Boosting Classifier</td>\n",
       "      <td id=\"T_d4874_row4_col1\" class=\"data row4 col1\" >0.9272</td>\n",
       "      <td id=\"T_d4874_row4_col2\" class=\"data row4 col2\" >0.9279</td>\n",
       "      <td id=\"T_d4874_row4_col3\" class=\"data row4 col3\" >0.7021</td>\n",
       "      <td id=\"T_d4874_row4_col4\" class=\"data row4 col4\" >0.9515</td>\n",
       "      <td id=\"T_d4874_row4_col5\" class=\"data row4 col5\" >0.8079</td>\n",
       "      <td id=\"T_d4874_row4_col6\" class=\"data row4 col6\" >0.7642</td>\n",
       "      <td id=\"T_d4874_row4_col7\" class=\"data row4 col7\" >0.7777</td>\n",
       "      <td id=\"T_d4874_row4_col8\" class=\"data row4 col8\" >1.0640</td>\n",
       "    </tr>\n",
       "    <tr>\n",
       "      <th id=\"T_d4874_level0_row5\" class=\"row_heading level0 row5\" >et</th>\n",
       "      <td id=\"T_d4874_row5_col0\" class=\"data row5 col0\" >Extra Trees Classifier</td>\n",
       "      <td id=\"T_d4874_row5_col1\" class=\"data row5 col1\" >0.9219</td>\n",
       "      <td id=\"T_d4874_row5_col2\" class=\"data row5 col2\" >0.9256</td>\n",
       "      <td id=\"T_d4874_row5_col3\" class=\"data row5 col3\" >0.6848</td>\n",
       "      <td id=\"T_d4874_row5_col4\" class=\"data row5 col4\" >0.9411</td>\n",
       "      <td id=\"T_d4874_row5_col5\" class=\"data row5 col5\" >0.7926</td>\n",
       "      <td id=\"T_d4874_row5_col6\" class=\"data row5 col6\" >0.7460</td>\n",
       "      <td id=\"T_d4874_row5_col7\" class=\"data row5 col7\" >0.7604</td>\n",
       "      <td id=\"T_d4874_row5_col8\" class=\"data row5 col8\" >0.2520</td>\n",
       "    </tr>\n",
       "    <tr>\n",
       "      <th id=\"T_d4874_level0_row6\" class=\"row_heading level0 row6\" >ada</th>\n",
       "      <td id=\"T_d4874_row6_col0\" class=\"data row6 col0\" >Ada Boost Classifier</td>\n",
       "      <td id=\"T_d4874_row6_col1\" class=\"data row6 col1\" >0.8903</td>\n",
       "      <td id=\"T_d4874_row6_col2\" class=\"data row6 col2\" >0.8994</td>\n",
       "      <td id=\"T_d4874_row6_col3\" class=\"data row6 col3\" >0.6780</td>\n",
       "      <td id=\"T_d4874_row6_col4\" class=\"data row6 col4\" >0.7897</td>\n",
       "      <td id=\"T_d4874_row6_col5\" class=\"data row6 col5\" >0.7295</td>\n",
       "      <td id=\"T_d4874_row6_col6\" class=\"data row6 col6\" >0.6611</td>\n",
       "      <td id=\"T_d4874_row6_col7\" class=\"data row6 col7\" >0.6643</td>\n",
       "      <td id=\"T_d4874_row6_col8\" class=\"data row6 col8\" >0.2490</td>\n",
       "    </tr>\n",
       "    <tr>\n",
       "      <th id=\"T_d4874_level0_row7\" class=\"row_heading level0 row7\" >dt</th>\n",
       "      <td id=\"T_d4874_row7_col0\" class=\"data row7 col0\" >Decision Tree Classifier</td>\n",
       "      <td id=\"T_d4874_row7_col1\" class=\"data row7 col1\" >0.8900</td>\n",
       "      <td id=\"T_d4874_row7_col2\" class=\"data row7 col2\" >0.8461</td>\n",
       "      <td id=\"T_d4874_row7_col3\" class=\"data row7 col3\" >0.7682</td>\n",
       "      <td id=\"T_d4874_row7_col4\" class=\"data row7 col4\" >0.7383</td>\n",
       "      <td id=\"T_d4874_row7_col5\" class=\"data row7 col5\" >0.7529</td>\n",
       "      <td id=\"T_d4874_row7_col6\" class=\"data row7 col6\" >0.6822</td>\n",
       "      <td id=\"T_d4874_row7_col7\" class=\"data row7 col7\" >0.6825</td>\n",
       "      <td id=\"T_d4874_row7_col8\" class=\"data row7 col8\" >0.0790</td>\n",
       "    </tr>\n",
       "    <tr>\n",
       "      <th id=\"T_d4874_level0_row8\" class=\"row_heading level0 row8\" >lr</th>\n",
       "      <td id=\"T_d4874_row8_col0\" class=\"data row8 col0\" >Logistic Regression</td>\n",
       "      <td id=\"T_d4874_row8_col1\" class=\"data row8 col1\" >0.8617</td>\n",
       "      <td id=\"T_d4874_row8_col2\" class=\"data row8 col2\" >0.8717</td>\n",
       "      <td id=\"T_d4874_row8_col3\" class=\"data row8 col3\" >0.5332</td>\n",
       "      <td id=\"T_d4874_row8_col4\" class=\"data row8 col4\" >0.7616</td>\n",
       "      <td id=\"T_d4874_row8_col5\" class=\"data row8 col5\" >0.6270</td>\n",
       "      <td id=\"T_d4874_row8_col6\" class=\"data row8 col6\" >0.5454</td>\n",
       "      <td id=\"T_d4874_row8_col7\" class=\"data row8 col7\" >0.5586</td>\n",
       "      <td id=\"T_d4874_row8_col8\" class=\"data row8 col8\" >0.4010</td>\n",
       "    </tr>\n",
       "    <tr>\n",
       "      <th id=\"T_d4874_level0_row9\" class=\"row_heading level0 row9\" >knn</th>\n",
       "      <td id=\"T_d4874_row9_col0\" class=\"data row9 col0\" >K Neighbors Classifier</td>\n",
       "      <td id=\"T_d4874_row9_col1\" class=\"data row9 col1\" >0.8615</td>\n",
       "      <td id=\"T_d4874_row9_col2\" class=\"data row9 col2\" >0.8348</td>\n",
       "      <td id=\"T_d4874_row9_col3\" class=\"data row9 col3\" >0.5062</td>\n",
       "      <td id=\"T_d4874_row9_col4\" class=\"data row9 col4\" >0.7826</td>\n",
       "      <td id=\"T_d4874_row9_col5\" class=\"data row9 col5\" >0.6145</td>\n",
       "      <td id=\"T_d4874_row9_col6\" class=\"data row9 col6\" >0.5347</td>\n",
       "      <td id=\"T_d4874_row9_col7\" class=\"data row9 col7\" >0.5537</td>\n",
       "      <td id=\"T_d4874_row9_col8\" class=\"data row9 col8\" >0.0950</td>\n",
       "    </tr>\n",
       "    <tr>\n",
       "      <th id=\"T_d4874_level0_row10\" class=\"row_heading level0 row10\" >lda</th>\n",
       "      <td id=\"T_d4874_row10_col0\" class=\"data row10 col0\" >Linear Discriminant Analysis</td>\n",
       "      <td id=\"T_d4874_row10_col1\" class=\"data row10 col1\" >0.8579</td>\n",
       "      <td id=\"T_d4874_row10_col2\" class=\"data row10 col2\" >0.8682</td>\n",
       "      <td id=\"T_d4874_row10_col3\" class=\"data row10 col3\" >0.5244</td>\n",
       "      <td id=\"T_d4874_row10_col4\" class=\"data row10 col4\" >0.7493</td>\n",
       "      <td id=\"T_d4874_row10_col5\" class=\"data row10 col5\" >0.6166</td>\n",
       "      <td id=\"T_d4874_row10_col6\" class=\"data row10 col6\" >0.5328</td>\n",
       "      <td id=\"T_d4874_row10_col7\" class=\"data row10 col7\" >0.5458</td>\n",
       "      <td id=\"T_d4874_row10_col8\" class=\"data row10 col8\" >0.0360</td>\n",
       "    </tr>\n",
       "    <tr>\n",
       "      <th id=\"T_d4874_level0_row11\" class=\"row_heading level0 row11\" >ridge</th>\n",
       "      <td id=\"T_d4874_row11_col0\" class=\"data row11 col0\" >Ridge Classifier</td>\n",
       "      <td id=\"T_d4874_row11_col1\" class=\"data row11 col1\" >0.8526</td>\n",
       "      <td id=\"T_d4874_row11_col2\" class=\"data row11 col2\" >0.8678</td>\n",
       "      <td id=\"T_d4874_row11_col3\" class=\"data row11 col3\" >0.4492</td>\n",
       "      <td id=\"T_d4874_row11_col4\" class=\"data row11 col4\" >0.7830</td>\n",
       "      <td id=\"T_d4874_row11_col5\" class=\"data row11 col5\" >0.5705</td>\n",
       "      <td id=\"T_d4874_row11_col6\" class=\"data row11 col6\" >0.4894</td>\n",
       "      <td id=\"T_d4874_row11_col7\" class=\"data row11 col7\" >0.5171</td>\n",
       "      <td id=\"T_d4874_row11_col8\" class=\"data row11 col8\" >0.0250</td>\n",
       "    </tr>\n",
       "    <tr>\n",
       "      <th id=\"T_d4874_level0_row12\" class=\"row_heading level0 row12\" >svm</th>\n",
       "      <td id=\"T_d4874_row12_col0\" class=\"data row12 col0\" >SVM - Linear Kernel</td>\n",
       "      <td id=\"T_d4874_row12_col1\" class=\"data row12 col1\" >0.8495</td>\n",
       "      <td id=\"T_d4874_row12_col2\" class=\"data row12 col2\" >0.8528</td>\n",
       "      <td id=\"T_d4874_row12_col3\" class=\"data row12 col3\" >0.5042</td>\n",
       "      <td id=\"T_d4874_row12_col4\" class=\"data row12 col4\" >0.7307</td>\n",
       "      <td id=\"T_d4874_row12_col5\" class=\"data row12 col5\" >0.5903</td>\n",
       "      <td id=\"T_d4874_row12_col6\" class=\"data row12 col6\" >0.5029</td>\n",
       "      <td id=\"T_d4874_row12_col7\" class=\"data row12 col7\" >0.5192</td>\n",
       "      <td id=\"T_d4874_row12_col8\" class=\"data row12 col8\" >0.0380</td>\n",
       "    </tr>\n",
       "    <tr>\n",
       "      <th id=\"T_d4874_level0_row13\" class=\"row_heading level0 row13\" >nb</th>\n",
       "      <td id=\"T_d4874_row13_col0\" class=\"data row13 col0\" >Naive Bayes</td>\n",
       "      <td id=\"T_d4874_row13_col1\" class=\"data row13 col1\" >0.8111</td>\n",
       "      <td id=\"T_d4874_row13_col2\" class=\"data row13 col2\" >0.8181</td>\n",
       "      <td id=\"T_d4874_row13_col3\" class=\"data row13 col3\" >0.6315</td>\n",
       "      <td id=\"T_d4874_row13_col4\" class=\"data row13 col4\" >0.5598</td>\n",
       "      <td id=\"T_d4874_row13_col5\" class=\"data row13 col5\" >0.5932</td>\n",
       "      <td id=\"T_d4874_row13_col6\" class=\"data row13 col6\" >0.4708</td>\n",
       "      <td id=\"T_d4874_row13_col7\" class=\"data row13 col7\" >0.4725</td>\n",
       "      <td id=\"T_d4874_row13_col8\" class=\"data row13 col8\" >0.0250</td>\n",
       "    </tr>\n",
       "    <tr>\n",
       "      <th id=\"T_d4874_level0_row14\" class=\"row_heading level0 row14\" >dummy</th>\n",
       "      <td id=\"T_d4874_row14_col0\" class=\"data row14 col0\" >Dummy Classifier</td>\n",
       "      <td id=\"T_d4874_row14_col1\" class=\"data row14 col1\" >0.7818</td>\n",
       "      <td id=\"T_d4874_row14_col2\" class=\"data row14 col2\" >0.5000</td>\n",
       "      <td id=\"T_d4874_row14_col3\" class=\"data row14 col3\" >0.0000</td>\n",
       "      <td id=\"T_d4874_row14_col4\" class=\"data row14 col4\" >0.0000</td>\n",
       "      <td id=\"T_d4874_row14_col5\" class=\"data row14 col5\" >0.0000</td>\n",
       "      <td id=\"T_d4874_row14_col6\" class=\"data row14 col6\" >0.0000</td>\n",
       "      <td id=\"T_d4874_row14_col7\" class=\"data row14 col7\" >0.0000</td>\n",
       "      <td id=\"T_d4874_row14_col8\" class=\"data row14 col8\" >0.0290</td>\n",
       "    </tr>\n",
       "    <tr>\n",
       "      <th id=\"T_d4874_level0_row15\" class=\"row_heading level0 row15\" >qda</th>\n",
       "      <td id=\"T_d4874_row15_col0\" class=\"data row15 col0\" >Quadratic Discriminant Analysis</td>\n",
       "      <td id=\"T_d4874_row15_col1\" class=\"data row15 col1\" >0.5833</td>\n",
       "      <td id=\"T_d4874_row15_col2\" class=\"data row15 col2\" >0.6483</td>\n",
       "      <td id=\"T_d4874_row15_col3\" class=\"data row15 col3\" >0.6305</td>\n",
       "      <td id=\"T_d4874_row15_col4\" class=\"data row15 col4\" >0.2912</td>\n",
       "      <td id=\"T_d4874_row15_col5\" class=\"data row15 col5\" >0.3979</td>\n",
       "      <td id=\"T_d4874_row15_col6\" class=\"data row15 col6\" >0.1418</td>\n",
       "      <td id=\"T_d4874_row15_col7\" class=\"data row15 col7\" >0.1664</td>\n",
       "      <td id=\"T_d4874_row15_col8\" class=\"data row15 col8\" >0.0330</td>\n",
       "    </tr>\n",
       "  </tbody>\n",
       "</table>\n"
      ],
      "text/plain": [
       "<pandas.io.formats.style.Styler at 0x308547580>"
      ]
     },
     "metadata": {},
     "output_type": "display_data"
    }
   ],
   "source": [
    "best_model = compare_models()"
   ]
  },
  {
   "cell_type": "code",
   "execution_count": 46,
   "id": "7f3e78586bc69d25",
   "metadata": {
    "ExecuteTime": {
     "end_time": "2024-11-21T00:50:14.746378Z",
     "start_time": "2024-11-21T00:50:14.720606Z"
    }
   },
   "outputs": [
    {
     "name": "stdout",
     "output_type": "stream",
     "text": [
      "Features esperadas: ['PERSON_AGE' 'PERSON_INCOME' 'PERSON_HOME_OWNERSHIP' 'PERSON_EMP_LENGTH'\n",
      " 'LOAN_INTENT' 'LOAN_GRADE' 'LOAN_AMNT' 'LOAN_INT_RATE'\n",
      " 'LOAN_PERCENT_INCOME' 'CB_PERSON_DEFAULT_ON_FILE'\n",
      " 'CB_PERSON_CRED_HIST_LENGTH' 'AGE_GROUP' 'LOAN_TO_INCOME_RATIO'\n",
      " 'EMP_LENGTH_CATEGORY' 'INTEREST_RATE_RISK' 'CREDIT_HISTORY_CATEGORY'\n",
      " 'HOME_OWNERSHIP_GROUP' 'HIGH_DEBT_INDICATOR' 'CREDIT_VS_LOAN_DURATION'\n",
      " 'LOAN_INTENT_CATEGORY' 'CREDIT_CONFIDENCE_LEVEL' 'ADJUSTED_INTEREST_RATE'\n",
      " 'ESTIMATED_SAVINGS' 'SIMPLIFIED_EMP_LENGTH' 'LOAN_AMOUNT_CATEGORY'\n",
      " 'HOUSING_EMPLOYMENT_RISK' 'AGE_INTEREST_RISK'\n",
      " 'ESTIMATED_DAYS_TO_CLEAR_DEBT' 'EARLY_PAYMENT_CAPABILITY'\n",
      " 'LOAN_INTENSITY_SCORE' 'INCOME_RANGE' 'FINANCIAL_STABILITY_RATIO'\n",
      " 'HOUSING_DEBT_RISK' 'INTEREST_RATE_ADJUSTED_BY_EMPLOYMENT'\n",
      " 'AVAILABLE_MONTHLY_PAYMENT' 'CREDIT_RISK_COMBINED' 'OVERALL_LOAN_RISK'\n",
      " 'ANNUAL_INCOME_DEDICATED_TO_LOAN' 'LOAN_SUSTAINABILITY' 'TOTAL_LOAN_COST'\n",
      " 'AGE_CREDIT_RISK']\n"
     ]
    }
   ],
   "source": [
    "import joblib\n",
    "\n",
    "# Cargar el modelo\n",
    "model = joblib.load(\"loan_model.pkl\")\n",
    "\n",
    "# Verificar las features esperadas\n",
    "if hasattr(model, \"feature_names_in_\"):\n",
    "    print(\"Features esperadas:\", model.feature_names_in_)\n",
    "else:\n",
    "    print(\"El modelo no tiene información directa sobre las features.\")\n"
   ]
  },
  {
   "cell_type": "code",
   "execution_count": 54,
   "id": "2cd4998dc743d60f",
   "metadata": {
    "ExecuteTime": {
     "end_time": "2024-11-21T01:15:24.420966Z",
     "start_time": "2024-11-21T01:15:20.353266Z"
    }
   },
   "outputs": [
    {
     "name": "stdout",
     "output_type": "stream",
     "text": [
      "Accuracy: 0.9314101580481817\n",
      "Classification Report:\n",
      "               precision    recall  f1-score   support\n",
      "\n",
      "           0       0.92      0.99      0.96      5095\n",
      "           1       0.97      0.71      0.82      1422\n",
      "\n",
      "    accuracy                           0.93      6517\n",
      "   macro avg       0.95      0.85      0.89      6517\n",
      "weighted avg       0.93      0.93      0.93      6517\n",
      "\n"
     ]
    }
   ],
   "source": [
    "import pandas as pd\n",
    "import joblib\n",
    "from sklearn.compose import ColumnTransformer\n",
    "from sklearn.pipeline import Pipeline\n",
    "from sklearn.impute import SimpleImputer\n",
    "from sklearn.preprocessing import StandardScaler, OneHotEncoder\n",
    "from sklearn.ensemble import RandomForestClassifier\n",
    "from sklearn.model_selection import train_test_split\n",
    "from sklearn.metrics import accuracy_score, classification_report\n",
    "\n",
    "\n",
    "X = data.drop('LOAN_STATUS', axis=1)\n",
    "y = data['LOAN_STATUS']\n",
    "\n",
    "X_train, X_test, y_train, y_test = train_test_split(X, y, test_size=0.2, random_state=42, stratify=y)\n",
    "\n",
    "categorical_columns = X.select_dtypes(include='object').columns.tolist()\n",
    "numerical_columns = X.select_dtypes(include=['float64', 'int64']).columns.tolist()\n",
    "\n",
    "numerical_transformer = Pipeline(steps=[\n",
    "    ('imputer', SimpleImputer(strategy='median')),  # Imputar valores faltantes\n",
    "    ('scaler', StandardScaler())  # Escalar datos\n",
    "])\n",
    "\n",
    "categorical_transformer = Pipeline(steps=[\n",
    "    ('imputer', SimpleImputer(strategy='most_frequent')),  # Imputar valores faltantes\n",
    "    ('onehot', OneHotEncoder(handle_unknown='ignore'))  # Codificar categorías\n",
    "])\n",
    "\n",
    "preprocessor = ColumnTransformer(\n",
    "    transformers=[\n",
    "        ('num', numerical_transformer, numerical_columns),\n",
    "        ('cat', categorical_transformer, categorical_columns)\n",
    "    ]\n",
    ")\n",
    "\n",
    "pipeline = Pipeline(steps=[\n",
    "    ('preprocessor', preprocessor),  # Paso de preprocesamiento\n",
    "    ('classifier', RandomForestClassifier(random_state=42))  # Modelo de clasificación\n",
    "])\n",
    "\n",
    "pipeline.fit(X_train, y_train)\n",
    "\n",
    "y_pred = pipeline.predict(X_test)\n",
    "print(\"Accuracy:\", accuracy_score(y_test, y_pred))\n",
    "print(\"Classification Report:\\n\", classification_report(y_test, y_pred))\n"
   ]
  },
  {
   "cell_type": "code",
   "execution_count": 55,
   "id": "5eb62d3f51b1e504",
   "metadata": {
    "ExecuteTime": {
     "end_time": "2024-11-21T01:25:27.538595Z",
     "start_time": "2024-11-21T01:15:32.442629Z"
    }
   },
   "outputs": [
    {
     "name": "stdout",
     "output_type": "stream",
     "text": [
      "Best parameters: {'classifier__max_depth': None, 'classifier__min_samples_split': 2, 'classifier__n_estimators': 200}\n",
      "Optimized Accuracy: 0.9309498235384379\n"
     ]
    }
   ],
   "source": [
    "from sklearn.model_selection import GridSearchCV\n",
    "\n",
    "# Definir parámetros para búsqueda\n",
    "param_grid = {\n",
    "    'classifier__n_estimators': [50, 100, 200],\n",
    "    'classifier__max_depth': [None, 10, 20, 30],\n",
    "    'classifier__min_samples_split': [2, 5, 10]\n",
    "}\n",
    "\n",
    "# Búsqueda en GridSearchCV\n",
    "grid_search = GridSearchCV(pipeline, param_grid, cv=5)\n",
    "grid_search.fit(X_train, y_train)\n",
    "\n",
    "print(\"Best parameters:\", grid_search.best_params_)\n",
    "\n",
    "# Usar el mejor modelo\n",
    "best_pipeline = grid_search.best_estimator_\n",
    "\n",
    "# Evaluar el modelo optimizado\n",
    "y_pred = best_pipeline.predict(X_test)\n",
    "print(\"Optimized Accuracy:\", accuracy_score(y_test, y_pred))\n"
   ]
  },
  {
   "cell_type": "code",
   "execution_count": 56,
   "id": "578f532e825c71f7",
   "metadata": {
    "ExecuteTime": {
     "end_time": "2024-11-21T01:25:36.914293Z",
     "start_time": "2024-11-21T01:25:36.869094Z"
    }
   },
   "outputs": [
    {
     "data": {
      "text/plain": [
       "['loan_pipeline.pkl']"
      ]
     },
     "execution_count": 56,
     "metadata": {},
     "output_type": "execute_result"
    }
   ],
   "source": [
    "joblib.dump(pipeline, 'loan_pipeline.pkl')"
   ]
  },
  {
   "cell_type": "code",
   "execution_count": 2,
   "id": "d9222383d7f56703",
   "metadata": {
    "ExecuteTime": {
     "end_time": "2024-11-21T21:14:28.510849Z",
     "start_time": "2024-11-21T21:03:35.318406Z"
    }
   },
   "outputs": [
    {
     "name": "stderr",
     "output_type": "stream",
     "text": [
      "2024/11/21 16:03:46 WARNING mlflow.models.model: Model logged without a signature and input example. Please set `input_example` parameter when logging the model to auto infer the model signature.\n",
      "Registered model 'LoanRiskModel' already exists. Creating a new version of this model...\n",
      "2024/11/21 16:04:00 INFO mlflow.store.model_registry.abstract_store: Waiting up to 300 seconds for model version to finish creation. Model name: LoanRiskModel, version 3\n",
      "Created version '3' of model 'LoanRiskModel'.\n"
     ]
    },
    {
     "name": "stdout",
     "output_type": "stream",
     "text": [
      "Accuracy: 0.9314101580481817\n",
      "Classification Report:\n",
      "               precision    recall  f1-score   support\n",
      "\n",
      "           0       0.92      0.99      0.96      5095\n",
      "           1       0.97      0.71      0.82      1422\n",
      "\n",
      "    accuracy                           0.93      6517\n",
      "   macro avg       0.95      0.85      0.89      6517\n",
      "weighted avg       0.93      0.93      0.93      6517\n",
      "\n",
      "Best parameters: {'classifier__max_depth': None, 'classifier__min_samples_split': 2, 'classifier__n_estimators': 200}\n",
      "Optimized Accuracy: 0.9309498235384379\n"
     ]
    },
    {
     "name": "stderr",
     "output_type": "stream",
     "text": [
      "2024/11/21 16:14:06 WARNING mlflow.models.model: Model logged without a signature and input example. Please set `input_example` parameter when logging the model to auto infer the model signature.\n",
      "Registered model 'LoanRiskModel' already exists. Creating a new version of this model...\n",
      "2024/11/21 16:14:28 INFO mlflow.store.model_registry.abstract_store: Waiting up to 300 seconds for model version to finish creation. Model name: LoanRiskModel, version 4\n",
      "Created version '4' of model 'LoanRiskModel'.\n"
     ]
    },
    {
     "data": {
      "text/plain": [
       "<mlflow.models.model.ModelInfo at 0x320e6d840>"
      ]
     },
     "execution_count": 2,
     "metadata": {},
     "output_type": "execute_result"
    }
   ],
   "source": [
    "import os\n",
    "import pandas as pd\n",
    "import mlflow\n",
    "import mlflow.sklearn\n",
    "from sklearn.compose import ColumnTransformer\n",
    "from sklearn.pipeline import Pipeline\n",
    "from sklearn.impute import SimpleImputer\n",
    "from sklearn.preprocessing import StandardScaler, OneHotEncoder\n",
    "from sklearn.ensemble import RandomForestClassifier\n",
    "from sklearn.model_selection import train_test_split, GridSearchCV\n",
    "from sklearn.metrics import accuracy_score, classification_report\n",
    "from dagshub import dagshub_logger\n",
    "\n",
    "# Configuración para DagsHub y MLflow\n",
    "repo_url = \"repo_dagshub\"  # URL del repositorio en DagsHub\n",
    "username = \"user_name\"  # Nombre de usuario en DagsHub\n",
    "\n",
    "# Configuración de URI de MLflow\n",
    "mlflow.set_tracking_uri(f\"{repo_url}.mlflow\")\n",
    "\n",
    "# Si el repositorio es privado, configurar autenticación\n",
    "os.environ[\"MLFLOW_TRACKING_USERNAME\"] = username\n",
    "os.environ[\"MLFLOW_TRACKING_PASSWORD\"] = \"api_token\"\n",
    "\n",
    "# Supongamos que 'data' ya está cargado como un DataFrame\n",
    "# data = pd.read_csv(\"ruta_a_tu_archivo.csv\")  # Asegúrate de cargar los datos correctamente\n",
    "\n",
    "# Separación de características y variable objetivo\n",
    "X = data.drop('LOAN_STATUS', axis=1)\n",
    "y = data['LOAN_STATUS']\n",
    "\n",
    "# División de los datos en entrenamiento y prueba\n",
    "X_train, X_test, y_train, y_test = train_test_split(\n",
    "    X, y, test_size=0.2, random_state=42, stratify=y\n",
    ")\n",
    "\n",
    "# Definir columnas numéricas y categóricas\n",
    "categorical_columns = X.select_dtypes(include='object').columns.tolist()\n",
    "numerical_columns = X.select_dtypes(include=['float64', 'int64']).columns.tolist()\n",
    "\n",
    "# Pipeline de transformación para columnas numéricas\n",
    "numerical_transformer = Pipeline(steps=[\n",
    "    ('imputer', SimpleImputer(strategy='median')),  # Imputar valores faltantes\n",
    "    ('scaler', StandardScaler())  # Escalar datos\n",
    "])\n",
    "\n",
    "# Pipeline de transformación para columnas categóricas\n",
    "categorical_transformer = Pipeline(steps=[\n",
    "    ('imputer', SimpleImputer(strategy='most_frequent')),  # Imputar valores faltantes\n",
    "    ('onehot', OneHotEncoder(handle_unknown='ignore'))  # Codificar categorías\n",
    "])\n",
    "\n",
    "# ColumnTransformer para aplicar las transformaciones\n",
    "preprocessor = ColumnTransformer(\n",
    "    transformers=[\n",
    "        ('num', numerical_transformer, numerical_columns),\n",
    "        ('cat', categorical_transformer, categorical_columns)\n",
    "    ]\n",
    ")\n",
    "\n",
    "# Pipeline completo: preprocesamiento + modelo\n",
    "pipeline = Pipeline(steps=[\n",
    "    ('preprocessor', preprocessor),\n",
    "    ('classifier', RandomForestClassifier(random_state=42))\n",
    "])\n",
    "\n",
    "# Entrenamiento del modelo\n",
    "pipeline.fit(X_train, y_train)\n",
    "\n",
    "# Evaluación del modelo\n",
    "y_pred = pipeline.predict(X_test)\n",
    "accuracy = accuracy_score(y_test, y_pred)\n",
    "\n",
    "# Log de parámetros y métricas en MLflow\n",
    "mlflow.log_param(\"model_type\", \"RandomForest\")\n",
    "mlflow.log_param(\"n_estimators\", 100)\n",
    "mlflow.log_param(\"random_state\", 42)\n",
    "mlflow.log_metric(\"accuracy\", accuracy)\n",
    "\n",
    "# Guardar el modelo en MLflow\n",
    "mlflow.sklearn.log_model(\n",
    "    pipeline,\n",
    "    \"loan_pipeline\",\n",
    "    registered_model_name=\"LoanRiskModel\"\n",
    ")\n",
    "\n",
    "print(\"Accuracy:\", accuracy)\n",
    "print(\"Classification Report:\\n\", classification_report(y_test, y_pred))\n",
    "\n",
    "# Búsqueda de hiperparámetros con GridSearchCV\n",
    "param_grid = {\n",
    "    'classifier__n_estimators': [50, 100, 200],\n",
    "    'classifier__max_depth': [None, 10, 20, 30],\n",
    "    'classifier__min_samples_split': [2, 5, 10]\n",
    "}\n",
    "\n",
    "grid_search = GridSearchCV(pipeline, param_grid, cv=5)\n",
    "grid_search.fit(X_train, y_train)\n",
    "\n",
    "# Log de mejores parámetros\n",
    "mlflow.log_param(\"best_n_estimators\", grid_search.best_params_['classifier__n_estimators'])\n",
    "mlflow.log_param(\"best_max_depth\", grid_search.best_params_['classifier__max_depth'])\n",
    "\n",
    "print(\"Best parameters:\", grid_search.best_params_)\n",
    "\n",
    "# Usar el mejor modelo\n",
    "best_pipeline = grid_search.best_estimator_\n",
    "\n",
    "# Evaluar el modelo optimizado\n",
    "y_pred = best_pipeline.predict(X_test)\n",
    "optimized_accuracy = accuracy_score(y_test, y_pred)\n",
    "\n",
    "print(\"Optimized Accuracy:\", optimized_accuracy)\n",
    "\n",
    "# Log de la métrica optimizada\n",
    "mlflow.log_metric(\"optimized_accuracy\", optimized_accuracy)\n",
    "\n",
    "# Guardar el modelo optimizado en MLflow\n",
    "mlflow.sklearn.log_model(\n",
    "    best_pipeline,\n",
    "    \"optimized_loan_pipeline\",\n",
    "    registered_model_name=\"LoanRiskModel\"\n",
    ")\n"
   ]
  },
  {
   "cell_type": "code",
   "execution_count": null,
   "id": "91957dfd1fc3b0ea",
   "metadata": {},
   "outputs": [],
   "source": []
  }
 ],
 "metadata": {
  "kernelspec": {
   "display_name": "Python 3 (ipykernel)",
   "language": "python",
   "name": "python3"
  },
  "language_info": {
   "codemirror_mode": {
    "name": "ipython",
    "version": 3
   },
   "file_extension": ".py",
   "mimetype": "text/x-python",
   "name": "python",
   "nbconvert_exporter": "python",
   "pygments_lexer": "ipython3",
   "version": "3.10.13"
  }
 },
 "nbformat": 4,
 "nbformat_minor": 5
}
